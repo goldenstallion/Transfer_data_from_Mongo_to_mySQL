{
 "cells": [
  {
   "cell_type": "markdown",
   "id": "08a8143b-fc39-4c6c-84f4-94204d3646ad",
   "metadata": {},
   "source": [
    "<font size = +2> Transfering data from MongoDB to MySql</font>"
   ]
  },
  {
   "cell_type": "markdown",
   "id": "98a06b0b-7752-4f4f-9fcd-af662b74ce61",
   "metadata": {},
   "source": [
    "Ensure that you install the packages needed for this project using \"pip install\""
   ]
  },
  {
   "cell_type": "code",
   "execution_count": 1,
   "id": "f0250ae8-d7f0-4ac6-9079-acefcaabab65",
   "metadata": {},
   "outputs": [],
   "source": [
    "import pymongo\n",
    "from pymongo import MongoClient\n",
    "from pprint import pprint\n",
    "import json\n",
    "import relationalize\n",
    "from typing import Any, Dict, Generator\n",
    "from relationalize import Relationalize, Schema\n",
    "from relationalize.utils import create_local_file\n",
    "import os\n",
    "import csv\n",
    "import pandas as pd\n",
    "import mysql.connector as ms\n",
    "from mysql.connector import Error"
   ]
  },
  {
   "cell_type": "markdown",
   "id": "442bd3bc-ebf3-4471-bc29-aac33a500550",
   "metadata": {},
   "source": [
    "Using MongoClient to connect to the MongoDB."
   ]
  },
  {
   "cell_type": "code",
   "execution_count": 2,
   "id": "05028edd-f317-485c-a407-585fd8681883",
   "metadata": {},
   "outputs": [
    {
     "data": {
      "text/plain": [
       "Collection(Database(MongoClient(host=['localhost:27017'], document_class=dict, tz_aware=False, connect=True), 'test'), 'employee')"
      ]
     },
     "execution_count": 2,
     "metadata": {},
     "output_type": "execute_result"
    }
   ],
   "source": [
    "client = MongoClient()\n",
    "#Connect to the database 'test' by attaching the name of the database as an extension to the instantiated mongoclient variable.\n",
    "db = client.test\n",
    "#Connect to the collection using the name as an extension\n",
    "employee = db.employee\n",
    "employee"
   ]
  },
  {
   "cell_type": "code",
   "execution_count": 3,
   "id": "1a6d47c7-ca7c-4f80-b385-b953588e969b",
   "metadata": {},
   "outputs": [
    {
     "name": "stdout",
     "output_type": "stream",
     "text": [
      "8\n"
     ]
    }
   ],
   "source": [
    "#Next, check to see if there are any data in the collection\n",
    "len = 0\n",
    "#Using the find attribute of mongodb to get the total number of documents in the collection\n",
    "for doc in employee.find():\n",
    "    len += 1\n",
    "print(len)"
   ]
  },
  {
   "cell_type": "code",
   "execution_count": 4,
   "id": "8c231919-8f16-4fd0-9fc4-e33d4b827e42",
   "metadata": {},
   "outputs": [
    {
     "name": "stdout",
     "output_type": "stream",
     "text": [
      "{'Address': 'Sears Streer, NZ',\n",
      " 'Age': '42',\n",
      " 'Name': 'Raj Kumar',\n",
      " '_id': ObjectId('64307ef302a0320de41984ea')}\n",
      "{'Address': 'Sears Streer, NZ',\n",
      " 'Age': '42',\n",
      " 'Name': 'Raj Kumar',\n",
      " '_id': ObjectId('64307f1c02a0320de41984eb')}\n",
      "{'Address': 'Ehime Mbano, Nigeria',\n",
      " 'Age': '29',\n",
      " 'Name': 'Meshach Nnosiri',\n",
      " '_id': ObjectId('6430837902a0320de41984ec')}\n",
      "{'Address': 'Ehime Mbano, Nigeria',\n",
      " 'Age': '31',\n",
      " 'Name': 'Franklin Nnosiri',\n",
      " '_id': ObjectId('6430837902a0320de41984ed')}\n",
      "{'Address': 'Portharcourt, Nigeria',\n",
      " 'Age': '24',\n",
      " 'Name': 'Judith Nnosiri',\n",
      " '_id': ObjectId('6430837902a0320de41984ee')}\n",
      "{'Address': 'Owerri, Nigeria',\n",
      " 'Age': '26',\n",
      " 'Name': 'Nancy Nnosiri',\n",
      " '_id': ObjectId('643095ec02a0320de41984ef'),\n",
      " 'marrital_status': 'Single'}\n",
      "{'_id': ObjectId('6430ac89cd83c136312f3c9f'),\n",
      " 'author': 'Martin',\n",
      " 'contributors': ['Aldren', 'Geir Arne', 'Jaya', 'Joanna', 'Mike'],\n",
      " 'title': 'Beautiful Soup: Build a Web Scraper With Python',\n",
      " 'url': 'https://realpython.com/beautiful-soup-web-scraper-python/'}\n",
      "{'_id': ObjectId('6430add2cd83c136312f3ca0'),\n",
      " 'author': 'Martin',\n",
      " 'contributors': ['Aldren', 'Geir Arne', 'Jaya', 'Joanna', 'Mike'],\n",
      " 'title': 'Beautiful Soup: Build a Web Scraper With Python',\n",
      " 'url': 'https://realpython.com/beautiful-soup-web-scraper-python/'}\n"
     ]
    }
   ],
   "source": [
    "#Printing out the list of documents in the collection since they are not much\n",
    "for doc in employee.find():\n",
    "    pprint(doc)"
   ]
  },
  {
   "cell_type": "code",
   "execution_count": 5,
   "id": "e56cbb7b-3e3a-48a5-bf41-1fe60d439cab",
   "metadata": {},
   "outputs": [
    {
     "name": "stdout",
     "output_type": "stream",
     "text": [
      "[\n",
      "  {\n",
      "    \"_id\": \"64307ef302a0320de41984ea\",\n",
      "    \"Name\": \"Raj Kumar\",\n",
      "    \"Address\": \"Sears Streer, NZ\",\n",
      "    \"Age\": \"42\"\n",
      "  },\n",
      "  {\n",
      "    \"_id\": \"64307f1c02a0320de41984eb\",\n",
      "    \"Name\": \"Raj Kumar\",\n",
      "    \"Address\": \"Sears Streer, NZ\",\n",
      "    \"Age\": \"42\"\n",
      "  }\n",
      "]\n"
     ]
    }
   ],
   "source": [
    "#I defined a function that allows us to specify the number of documents we want printed\n",
    "def find(documents, number):\n",
    "    docs = documents\n",
    "    list_docs = []\n",
    "    for x in range(number):\n",
    "        doc = docs[x]\n",
    "        list_docs.append(doc)\n",
    "    return list_docs       \n",
    "\n",
    "#Instead using the 'pprint' function to print JSON objects, we can also do this using 'print and json.dumps'\n",
    "print(json.dumps(find(employee.find(), 2), default=str, indent=2))"
   ]
  },
  {
   "cell_type": "markdown",
   "id": "6dbba7d9-8f18-4e8d-903f-d06666360b44",
   "metadata": {},
   "source": []
  },
  {
   "cell_type": "markdown",
   "id": "24f24d57-9b3f-4672-a10a-86a511c428dd",
   "metadata": {},
   "source": [
    "Next we write the documents in JSON format into a file of json extension"
   ]
  },
  {
   "cell_type": "code",
   "execution_count": 6,
   "id": "6e085271-0db8-4f4e-822e-80ecf9939dd4",
   "metadata": {},
   "outputs": [],
   "source": [
    "with open('export.json', \"w\") as export_file:\n",
    "    for document in employee.find():\n",
    "        export_file.write(f\"{json.dumps(document, default=str)}\\n\")"
   ]
  },
  {
   "cell_type": "markdown",
   "id": "3fbecf8d-0534-4a9b-a778-b8d1e487a55b",
   "metadata": {},
   "source": [
    "Check to see that the json objects were written in the file"
   ]
  },
  {
   "cell_type": "code",
   "execution_count": 7,
   "id": "e5828989-8dcb-4eba-b763-729fdc11d5d9",
   "metadata": {},
   "outputs": [
    {
     "name": "stdout",
     "output_type": "stream",
     "text": [
      "{\"_id\": \"64307ef302a0320de41984ea\", \"Name\": \"Raj Kumar\", \"Address\": \"Sears Streer, NZ\", \"Age\": \"42\"}\n",
      "{\"_id\": \"64307f1c02a0320de41984eb\", \"Name\": \"Raj Kumar\", \"Address\": \"Sears Streer, NZ\", \"Age\": \"42\"}\n",
      "{\"_id\": \"6430837902a0320de41984ec\", \"Name\": \"Meshach Nnosiri\", \"Address\": \"Ehime Mbano, Nigeria\", \"Age\": \"29\"}\n",
      "{\"_id\": \"6430837902a0320de41984ed\", \"Name\": \"Franklin Nnosiri\", \"Address\": \"Ehime Mbano, Nigeria\", \"Age\": \"31\"}\n",
      "{\"_id\": \"6430837902a0320de41984ee\", \"Name\": \"Judith Nnosiri\", \"Address\": \"Portharcourt, Nigeria\", \"Age\": \"24\"}\n",
      "{\"_id\": \"643095ec02a0320de41984ef\", \"Name\": \"Nancy Nnosiri\", \"Address\": \"Owerri, Nigeria\", \"Age\": \"26\", \"marrital_status\": \"Single\"}\n",
      "{\"_id\": \"6430ac89cd83c136312f3c9f\", \"title\": \"Beautiful Soup: Build a Web Scraper With Python\", \"author\": \"Martin\", \"contributors\": [\"Aldren\", \"Geir Arne\", \"Jaya\", \"Joanna\", \"Mike\"], \"url\": \"https://realpython.com/beautiful-soup-web-scraper-python/\"}\n",
      "{\"_id\": \"6430add2cd83c136312f3ca0\", \"title\": \"Beautiful Soup: Build a Web Scraper With Python\", \"author\": \"Martin\", \"contributors\": [\"Aldren\", \"Geir Arne\", \"Jaya\", \"Joanna\", \"Mike\"], \"url\": \"https://realpython.com/beautiful-soup-web-scraper-python/\"}\n",
      "\n"
     ]
    }
   ],
   "source": [
    "with open('export.json', \"r\") as file:\n",
    "    docs = file.read()\n",
    "    print(docs)"
   ]
  },
  {
   "cell_type": "code",
   "execution_count": 8,
   "id": "b53eae1e-cac3-4cdb-8ba0-1b1eba35b30d",
   "metadata": {},
   "outputs": [],
   "source": [
    "schemas: Dict[str, Schema] = {}\n",
    "\n",
    "#Create a function that will enable relationalize to create a schema for the json objects\n",
    "# this gets called when a relationalized object is written to the temporary file.\n",
    "def on_object_write(schema: str, object: dict):\n",
    "    if schema not in schemas:\n",
    "        schemas[schema] = Schema()\n",
    "    schemas[schema].read_object(object)\n",
    "\n",
    "#Create an iterator that will iterate through each of the json objects present and return list of the values present\n",
    "def create_iterator(filename) -> Generator[Dict[str, Any], None, None]:\n",
    "    with open(filename, \"r\") as infile:\n",
    "        for line in infile:\n",
    "            yield json.loads(line)\n",
    "\n",
    "#Create a temporary folder to store the flattened json objects using relationalize\n",
    "os.makedirs(\"temp\", exist_ok=True)\n",
    "with Relationalize(\n",
    "    'employee', create_local_file(\"temp\"), on_object_write\n",
    ") as r:\n",
    "    r.relationalize(create_iterator(\"export.json\"))"
   ]
  },
  {
   "cell_type": "code",
   "execution_count": 9,
   "id": "ae3213de-f09e-4c4d-96d7-76311dd73821",
   "metadata": {},
   "outputs": [
    {
     "name": "stdout",
     "output_type": "stream",
     "text": [
      "dict_items([('employee', <relationalize.schema.Schema object at 0x0000017AB4B4CD90>), ('employee_contributors', <relationalize.schema.Schema object at 0x0000017AB4B4CC70>)])\n"
     ]
    }
   ],
   "source": [
    "#Printing the values present in the schema list which includes the name of the collection and the generated extension of the data, as well as their columns.\n",
    "print(schemas.items())"
   ]
  },
  {
   "cell_type": "code",
   "execution_count": 10,
   "id": "2817c59f-0a40-474b-86b4-604e2a4b624e",
   "metadata": {},
   "outputs": [
    {
     "name": "stdout",
     "output_type": "stream",
     "text": [
      "employee ['Address', 'Age', 'Name', '_id', 'author', 'contributors', 'marrital_status', 'title', 'url']\n",
      "employee_contributors ['contributors__index_', 'contributors__rid_', 'contributors__val_']\n"
     ]
    }
   ],
   "source": [
    "#Next we print out the column names present in the schema\n",
    "for schema_name, schema in schemas.items():\n",
    "    print(schema_name, schema.generate_output_columns())"
   ]
  },
  {
   "cell_type": "code",
   "execution_count": 11,
   "id": "8c049f8c-77b0-4130-9bff-22afb485c700",
   "metadata": {},
   "outputs": [],
   "source": [
    "#Create a folder where the files will be converted from a json format to a csv.\n",
    "os.makedirs(\"final\", exist_ok=True)\n",
    "for schema_name, schema in schemas.items():\n",
    "    with open(\n",
    "        os.path.join(\"final\", f\"{schema_name}.csv\"),\n",
    "        \"w\",\n",
    "    ) as final_file:\n",
    "        writer = csv.DictWriter(final_file, fieldnames=schema.generate_output_columns())\n",
    "        #Denote the variable as header using the writeheader() function\n",
    "        writer.writeheader()\n",
    "        for row in create_iterator(os.path.join(\"temp\", f\"{schema_name}.json\")):\n",
    "            converted_obj = schema.convert_object(row)\n",
    "            #Using the writerow extention to include the \n",
    "            writer.writerow(converted_obj)"
   ]
  },
  {
   "cell_type": "markdown",
   "id": "261fc852-d8e6-467e-ad84-2854e9d925fd",
   "metadata": {},
   "source": [
    "Next the CSV files are converted into pandas format where it is checked and using iterrows() to iterrate through and write in relational database(mysql)"
   ]
  },
  {
   "cell_type": "code",
   "execution_count": 12,
   "id": "085495f1-b131-413a-891f-31dc774b510d",
   "metadata": {},
   "outputs": [],
   "source": [
    "df = pd.read_csv(r'C:\\Users\\user\\Desktop\\Data Science\\Cleaning_FIFA_Data\\final\\employee.csv')\n",
    "df2 = pd.read_csv(r'C:\\Users\\user\\Desktop\\Data Science\\Cleaning_FIFA_Data\\final\\employee_contributors.csv')"
   ]
  },
  {
   "cell_type": "code",
   "execution_count": 13,
   "id": "6cacf690-1225-4b3c-aab7-33bc973d8d19",
   "metadata": {},
   "outputs": [
    {
     "data": {
      "text/html": [
       "<div>\n",
       "<style scoped>\n",
       "    .dataframe tbody tr th:only-of-type {\n",
       "        vertical-align: middle;\n",
       "    }\n",
       "\n",
       "    .dataframe tbody tr th {\n",
       "        vertical-align: top;\n",
       "    }\n",
       "\n",
       "    .dataframe thead th {\n",
       "        text-align: right;\n",
       "    }\n",
       "</style>\n",
       "<table border=\"1\" class=\"dataframe\">\n",
       "  <thead>\n",
       "    <tr style=\"text-align: right;\">\n",
       "      <th></th>\n",
       "      <th>Address</th>\n",
       "      <th>Age</th>\n",
       "      <th>Name</th>\n",
       "      <th>_id</th>\n",
       "      <th>author</th>\n",
       "      <th>contributors</th>\n",
       "      <th>marrital_status</th>\n",
       "      <th>title</th>\n",
       "      <th>url</th>\n",
       "    </tr>\n",
       "  </thead>\n",
       "  <tbody>\n",
       "    <tr>\n",
       "      <th>0</th>\n",
       "      <td>Sears Streer, NZ</td>\n",
       "      <td>42.0</td>\n",
       "      <td>Raj Kumar</td>\n",
       "      <td>64307ef302a0320de41984ea</td>\n",
       "      <td>NaN</td>\n",
       "      <td>NaN</td>\n",
       "      <td>NaN</td>\n",
       "      <td>NaN</td>\n",
       "      <td>NaN</td>\n",
       "    </tr>\n",
       "    <tr>\n",
       "      <th>1</th>\n",
       "      <td>Sears Streer, NZ</td>\n",
       "      <td>42.0</td>\n",
       "      <td>Raj Kumar</td>\n",
       "      <td>64307f1c02a0320de41984eb</td>\n",
       "      <td>NaN</td>\n",
       "      <td>NaN</td>\n",
       "      <td>NaN</td>\n",
       "      <td>NaN</td>\n",
       "      <td>NaN</td>\n",
       "    </tr>\n",
       "    <tr>\n",
       "      <th>2</th>\n",
       "      <td>Ehime Mbano, Nigeria</td>\n",
       "      <td>29.0</td>\n",
       "      <td>Meshach Nnosiri</td>\n",
       "      <td>6430837902a0320de41984ec</td>\n",
       "      <td>NaN</td>\n",
       "      <td>NaN</td>\n",
       "      <td>NaN</td>\n",
       "      <td>NaN</td>\n",
       "      <td>NaN</td>\n",
       "    </tr>\n",
       "    <tr>\n",
       "      <th>3</th>\n",
       "      <td>Ehime Mbano, Nigeria</td>\n",
       "      <td>31.0</td>\n",
       "      <td>Franklin Nnosiri</td>\n",
       "      <td>6430837902a0320de41984ed</td>\n",
       "      <td>NaN</td>\n",
       "      <td>NaN</td>\n",
       "      <td>NaN</td>\n",
       "      <td>NaN</td>\n",
       "      <td>NaN</td>\n",
       "    </tr>\n",
       "    <tr>\n",
       "      <th>4</th>\n",
       "      <td>Portharcourt, Nigeria</td>\n",
       "      <td>24.0</td>\n",
       "      <td>Judith Nnosiri</td>\n",
       "      <td>6430837902a0320de41984ee</td>\n",
       "      <td>NaN</td>\n",
       "      <td>NaN</td>\n",
       "      <td>NaN</td>\n",
       "      <td>NaN</td>\n",
       "      <td>NaN</td>\n",
       "    </tr>\n",
       "  </tbody>\n",
       "</table>\n",
       "</div>"
      ],
      "text/plain": [
       "                 Address   Age              Name                       _id  \\\n",
       "0       Sears Streer, NZ  42.0         Raj Kumar  64307ef302a0320de41984ea   \n",
       "1       Sears Streer, NZ  42.0         Raj Kumar  64307f1c02a0320de41984eb   \n",
       "2   Ehime Mbano, Nigeria  29.0   Meshach Nnosiri  6430837902a0320de41984ec   \n",
       "3   Ehime Mbano, Nigeria  31.0  Franklin Nnosiri  6430837902a0320de41984ed   \n",
       "4  Portharcourt, Nigeria  24.0    Judith Nnosiri  6430837902a0320de41984ee   \n",
       "\n",
       "  author contributors marrital_status title  url  \n",
       "0    NaN          NaN             NaN   NaN  NaN  \n",
       "1    NaN          NaN             NaN   NaN  NaN  \n",
       "2    NaN          NaN             NaN   NaN  NaN  \n",
       "3    NaN          NaN             NaN   NaN  NaN  \n",
       "4    NaN          NaN             NaN   NaN  NaN  "
      ]
     },
     "execution_count": 13,
     "metadata": {},
     "output_type": "execute_result"
    }
   ],
   "source": [
    "#Employee files containing all the columns\n",
    "df.head()"
   ]
  },
  {
   "cell_type": "code",
   "execution_count": 14,
   "id": "8cb9760e-cacd-46f3-85c0-c5dab086a49a",
   "metadata": {},
   "outputs": [
    {
     "data": {
      "text/html": [
       "<div>\n",
       "<style scoped>\n",
       "    .dataframe tbody tr th:only-of-type {\n",
       "        vertical-align: middle;\n",
       "    }\n",
       "\n",
       "    .dataframe tbody tr th {\n",
       "        vertical-align: top;\n",
       "    }\n",
       "\n",
       "    .dataframe thead th {\n",
       "        text-align: right;\n",
       "    }\n",
       "</style>\n",
       "<table border=\"1\" class=\"dataframe\">\n",
       "  <thead>\n",
       "    <tr style=\"text-align: right;\">\n",
       "      <th></th>\n",
       "      <th>contributors__index_</th>\n",
       "      <th>contributors__rid_</th>\n",
       "      <th>contributors__val_</th>\n",
       "    </tr>\n",
       "  </thead>\n",
       "  <tbody>\n",
       "    <tr>\n",
       "      <th>0</th>\n",
       "      <td>0</td>\n",
       "      <td>R_e8c87c751d464567b2fe55a5d7924c88</td>\n",
       "      <td>Aldren</td>\n",
       "    </tr>\n",
       "    <tr>\n",
       "      <th>1</th>\n",
       "      <td>1</td>\n",
       "      <td>R_e8c87c751d464567b2fe55a5d7924c88</td>\n",
       "      <td>Geir Arne</td>\n",
       "    </tr>\n",
       "    <tr>\n",
       "      <th>2</th>\n",
       "      <td>2</td>\n",
       "      <td>R_e8c87c751d464567b2fe55a5d7924c88</td>\n",
       "      <td>Jaya</td>\n",
       "    </tr>\n",
       "    <tr>\n",
       "      <th>3</th>\n",
       "      <td>3</td>\n",
       "      <td>R_e8c87c751d464567b2fe55a5d7924c88</td>\n",
       "      <td>Joanna</td>\n",
       "    </tr>\n",
       "    <tr>\n",
       "      <th>4</th>\n",
       "      <td>4</td>\n",
       "      <td>R_e8c87c751d464567b2fe55a5d7924c88</td>\n",
       "      <td>Mike</td>\n",
       "    </tr>\n",
       "  </tbody>\n",
       "</table>\n",
       "</div>"
      ],
      "text/plain": [
       "   contributors__index_                  contributors__rid_ contributors__val_\n",
       "0                     0  R_e8c87c751d464567b2fe55a5d7924c88             Aldren\n",
       "1                     1  R_e8c87c751d464567b2fe55a5d7924c88          Geir Arne\n",
       "2                     2  R_e8c87c751d464567b2fe55a5d7924c88               Jaya\n",
       "3                     3  R_e8c87c751d464567b2fe55a5d7924c88             Joanna\n",
       "4                     4  R_e8c87c751d464567b2fe55a5d7924c88               Mike"
      ]
     },
     "execution_count": 14,
     "metadata": {},
     "output_type": "execute_result"
    }
   ],
   "source": [
    "#Employee_contributors file, an extension of the employee file only that this contains employees with contributors name as well as a unique code identifier linking it to the employee data.\n",
    "df2.head()"
   ]
  },
  {
   "cell_type": "markdown",
   "id": "0ee8066a-5910-4d3b-8053-6d2a9b8c38f5",
   "metadata": {},
   "source": [
    "Create a connection to MySQL "
   ]
  },
  {
   "cell_type": "code",
   "execution_count": 15,
   "id": "e5eb964a-109d-4317-8b72-ce23fc82f6e9",
   "metadata": {},
   "outputs": [
    {
     "name": "stdout",
     "output_type": "stream",
     "text": [
      "Connected to MySQL Server version  8.0.31\n",
      "You're connected to database:  ('sakila',)\n"
     ]
    }
   ],
   "source": [
    "try:\n",
    "    connection = ms.connect(\n",
    "        host='127.0.0.1',  # host on which the database is running\n",
    "        database='sakila',  # name of the database to connect to\n",
    "        user='root',  # username to connect with\n",
    "        password='password')  # password associated with your username\n",
    "    if connection.is_connected():\n",
    "        db_Info = connection.get_server_info()\n",
    "        print(\"Connected to MySQL Server version \", db_Info)\n",
    "        cursor = connection.cursor()\n",
    "        cursor.execute(\"select database();\")\n",
    "        record = cursor.fetchone()\n",
    "        print(\"You're connected to database: \", record)\n",
    "\n",
    "except Error as e:\n",
    "    print(\"Error while connecting to MySQL\", e)"
   ]
  },
  {
   "cell_type": "code",
   "execution_count": 16,
   "id": "3705b055-012a-4c50-93c5-6555b17391fb",
   "metadata": {},
   "outputs": [],
   "source": [
    "cursor = connection.cursor()"
   ]
  },
  {
   "cell_type": "markdown",
   "id": "c91c45eb-50ad-44a2-b0f0-112381297f40",
   "metadata": {},
   "source": [
    "Create a table and the columns present in the table, this is very neccessary for relational database"
   ]
  },
  {
   "cell_type": "code",
   "execution_count": 17,
   "id": "ece05766-ba58-4025-ade7-2ab3bc5c348e",
   "metadata": {},
   "outputs": [],
   "source": [
    "cursor.execute(\"\"\"DROP TABLE IF EXISTS employee_test\"\"\")\n",
    "cursor.execute(\"\"\"CREATE TABLE employee_test (Address varchar(255), Age varchar(255),\n",
    "                      Name varchar(255), _id varchar(255), author varchar(255) DEFAULT NULL,\n",
    "                      contributors varchar(255) DEFAULT NULL, marital_status varchar(255) DEFAULT NULL,\n",
    "                      title varchar(255) DEFAULT NULL, url varchar(255) DEFAULT NULL)\"\"\")"
   ]
  },
  {
   "cell_type": "markdown",
   "id": "cd805d4b-a7b7-43ea-b246-70139cfa4b51",
   "metadata": {},
   "source": [
    "Next you insert into the values into the table by iterating through the df data gotten by using pandas."
   ]
  },
  {
   "cell_type": "code",
   "execution_count": 18,
   "id": "28718dc7-e95d-4f61-83b1-21e1b8f8487b",
   "metadata": {},
   "outputs": [
    {
     "name": "stdout",
     "output_type": "stream",
     "text": [
      "Inserted row\n"
     ]
    }
   ],
   "source": [
    "for column, row in df.iterrows():\n",
    "    value = row\n",
    "    #Define a query for inserting into a table.\n",
    "    query = \"\"\"INSERT INTO sakila.employee_test\n",
    "               VALUES (\"%s\", \"%s\", \"%s\", \"%s\", \"%s\", \"%s\", \"%s\", \"%s\", \"%s\")\"\"\"\n",
    "    cursor.execute(query, tuple(value))\n",
    "    connection.commit()\n",
    "print('Inserted row')"
   ]
  },
  {
   "cell_type": "code",
   "execution_count": 19,
   "id": "22d16300-d4a5-426f-90cf-1e106cf29ae4",
   "metadata": {},
   "outputs": [],
   "source": [
    "#Query the database to see if the rows have indeed been inserted\n",
    "query = \"\"\"SELECT *\n",
    "           FROM employee_test\"\"\"\n",
    "cursor.execute(query)\n",
    "values = cursor.fetchall()"
   ]
  },
  {
   "cell_type": "code",
   "execution_count": 20,
   "id": "16eb4548-c90f-49e3-bba5-4aa53cee382d",
   "metadata": {},
   "outputs": [
    {
     "name": "stdout",
     "output_type": "stream",
     "text": [
      "The columns present are:['Address', 'Age', 'Name', '_id', 'author', 'contributors', 'marital_status', 'title', 'url']\n"
     ]
    }
   ],
   "source": [
    "#Get the columns from the table in the sql using cursor.description\n",
    "columns = [column[0] for column in cursor.description]\n",
    "print(f'The columns present are:{columns}')"
   ]
  },
  {
   "cell_type": "code",
   "execution_count": 21,
   "id": "f38db991-6428-4469-9fec-c5ab86684438",
   "metadata": {},
   "outputs": [
    {
     "data": {
      "text/html": [
       "<div>\n",
       "<style scoped>\n",
       "    .dataframe tbody tr th:only-of-type {\n",
       "        vertical-align: middle;\n",
       "    }\n",
       "\n",
       "    .dataframe tbody tr th {\n",
       "        vertical-align: top;\n",
       "    }\n",
       "\n",
       "    .dataframe thead th {\n",
       "        text-align: right;\n",
       "    }\n",
       "</style>\n",
       "<table border=\"1\" class=\"dataframe\">\n",
       "  <thead>\n",
       "    <tr style=\"text-align: right;\">\n",
       "      <th></th>\n",
       "      <th>Address</th>\n",
       "      <th>Age</th>\n",
       "      <th>Name</th>\n",
       "      <th>_id</th>\n",
       "      <th>author</th>\n",
       "      <th>contributors</th>\n",
       "      <th>marital_status</th>\n",
       "      <th>title</th>\n",
       "      <th>url</th>\n",
       "    </tr>\n",
       "  </thead>\n",
       "  <tbody>\n",
       "    <tr>\n",
       "      <th>0</th>\n",
       "      <td>'Sears Streer, NZ'</td>\n",
       "      <td>42.0</td>\n",
       "      <td>'Raj Kumar'</td>\n",
       "      <td>'64307ef302a0320de41984ea'</td>\n",
       "      <td>nan</td>\n",
       "      <td>nan</td>\n",
       "      <td>nan</td>\n",
       "      <td>nan</td>\n",
       "      <td>nan</td>\n",
       "    </tr>\n",
       "    <tr>\n",
       "      <th>1</th>\n",
       "      <td>'Sears Streer, NZ'</td>\n",
       "      <td>42.0</td>\n",
       "      <td>'Raj Kumar'</td>\n",
       "      <td>'64307f1c02a0320de41984eb'</td>\n",
       "      <td>nan</td>\n",
       "      <td>nan</td>\n",
       "      <td>nan</td>\n",
       "      <td>nan</td>\n",
       "      <td>nan</td>\n",
       "    </tr>\n",
       "    <tr>\n",
       "      <th>2</th>\n",
       "      <td>'Ehime Mbano, Nigeria'</td>\n",
       "      <td>29.0</td>\n",
       "      <td>'Meshach Nnosiri'</td>\n",
       "      <td>'6430837902a0320de41984ec'</td>\n",
       "      <td>nan</td>\n",
       "      <td>nan</td>\n",
       "      <td>nan</td>\n",
       "      <td>nan</td>\n",
       "      <td>nan</td>\n",
       "    </tr>\n",
       "    <tr>\n",
       "      <th>3</th>\n",
       "      <td>'Ehime Mbano, Nigeria'</td>\n",
       "      <td>31.0</td>\n",
       "      <td>'Franklin Nnosiri'</td>\n",
       "      <td>'6430837902a0320de41984ed'</td>\n",
       "      <td>nan</td>\n",
       "      <td>nan</td>\n",
       "      <td>nan</td>\n",
       "      <td>nan</td>\n",
       "      <td>nan</td>\n",
       "    </tr>\n",
       "    <tr>\n",
       "      <th>4</th>\n",
       "      <td>'Portharcourt, Nigeria'</td>\n",
       "      <td>24.0</td>\n",
       "      <td>'Judith Nnosiri'</td>\n",
       "      <td>'6430837902a0320de41984ee'</td>\n",
       "      <td>nan</td>\n",
       "      <td>nan</td>\n",
       "      <td>nan</td>\n",
       "      <td>nan</td>\n",
       "      <td>nan</td>\n",
       "    </tr>\n",
       "  </tbody>\n",
       "</table>\n",
       "</div>"
      ],
      "text/plain": [
       "                   Address   Age                Name  \\\n",
       "0       'Sears Streer, NZ'  42.0         'Raj Kumar'   \n",
       "1       'Sears Streer, NZ'  42.0         'Raj Kumar'   \n",
       "2   'Ehime Mbano, Nigeria'  29.0   'Meshach Nnosiri'   \n",
       "3   'Ehime Mbano, Nigeria'  31.0  'Franklin Nnosiri'   \n",
       "4  'Portharcourt, Nigeria'  24.0    'Judith Nnosiri'   \n",
       "\n",
       "                          _id author contributors marital_status title  url  \n",
       "0  '64307ef302a0320de41984ea'    nan          nan            nan   nan  nan  \n",
       "1  '64307f1c02a0320de41984eb'    nan          nan            nan   nan  nan  \n",
       "2  '6430837902a0320de41984ec'    nan          nan            nan   nan  nan  \n",
       "3  '6430837902a0320de41984ed'    nan          nan            nan   nan  nan  \n",
       "4  '6430837902a0320de41984ee'    nan          nan            nan   nan  nan  "
      ]
     },
     "execution_count": 21,
     "metadata": {},
     "output_type": "execute_result"
    }
   ],
   "source": [
    "#Create a dataframe with the values and columns then crosscheck with the initial dataframe gotten from the saved csv file\n",
    "data = pd.DataFrame(values, columns = columns)\n",
    "data.head()"
   ]
  },
  {
   "cell_type": "markdown",
   "id": "23af39a5-1872-4383-b190-08e0d7ebc1bf",
   "metadata": {},
   "source": [
    "Create a different table in mysql where the relational data will be stored"
   ]
  },
  {
   "cell_type": "code",
   "execution_count": 22,
   "id": "3866c239-9c18-4c94-8a2c-8706537d72f5",
   "metadata": {},
   "outputs": [
    {
     "name": "stdout",
     "output_type": "stream",
     "text": [
      "Rows has been inserted\n"
     ]
    }
   ],
   "source": [
    "cursor.execute(\"\"\"DROP TABLE IF EXISTS employee_contributors\"\"\")\n",
    "cursor.execute(\"\"\"CREATE TABLE employee_contributors(contributors__index_ varchar(255), \n",
    "                  contributors__rid_ varchar(255), \n",
    "                  contributors__val_ varchar(255))\"\"\")\n",
    "for column,row in df2.iterrows():\n",
    "    value = row\n",
    "    query2 = \"\"\"INSERT INTO sakila.employee_contributors\n",
    "                 VALUES(%s, %s, %s)\"\"\"\n",
    "    cursor.execute(query2, tuple(value))\n",
    "    connection.commit()\n",
    "print(\"Rows has been inserted\")"
   ]
  },
  {
   "cell_type": "markdown",
   "id": "3f172224-c754-4989-a5c7-34c9b15ae563",
   "metadata": {},
   "source": [
    "Get the employee_contributors from the database and cross check it with the initial file."
   ]
  },
  {
   "cell_type": "code",
   "execution_count": 23,
   "id": "ce82d202-8b2f-4979-b8d5-8c0175be4932",
   "metadata": {},
   "outputs": [
    {
     "name": "stdout",
     "output_type": "stream",
     "text": [
      "The columns present are:['contributors__index_', 'contributors__rid_', 'contributors__val_']\n"
     ]
    },
    {
     "data": {
      "text/html": [
       "<div>\n",
       "<style scoped>\n",
       "    .dataframe tbody tr th:only-of-type {\n",
       "        vertical-align: middle;\n",
       "    }\n",
       "\n",
       "    .dataframe tbody tr th {\n",
       "        vertical-align: top;\n",
       "    }\n",
       "\n",
       "    .dataframe thead th {\n",
       "        text-align: right;\n",
       "    }\n",
       "</style>\n",
       "<table border=\"1\" class=\"dataframe\">\n",
       "  <thead>\n",
       "    <tr style=\"text-align: right;\">\n",
       "      <th></th>\n",
       "      <th>contributors__index_</th>\n",
       "      <th>contributors__rid_</th>\n",
       "      <th>contributors__val_</th>\n",
       "    </tr>\n",
       "  </thead>\n",
       "  <tbody>\n",
       "    <tr>\n",
       "      <th>0</th>\n",
       "      <td>0</td>\n",
       "      <td>R_e8c87c751d464567b2fe55a5d7924c88</td>\n",
       "      <td>Aldren</td>\n",
       "    </tr>\n",
       "    <tr>\n",
       "      <th>1</th>\n",
       "      <td>1</td>\n",
       "      <td>R_e8c87c751d464567b2fe55a5d7924c88</td>\n",
       "      <td>Geir Arne</td>\n",
       "    </tr>\n",
       "    <tr>\n",
       "      <th>2</th>\n",
       "      <td>2</td>\n",
       "      <td>R_e8c87c751d464567b2fe55a5d7924c88</td>\n",
       "      <td>Jaya</td>\n",
       "    </tr>\n",
       "    <tr>\n",
       "      <th>3</th>\n",
       "      <td>3</td>\n",
       "      <td>R_e8c87c751d464567b2fe55a5d7924c88</td>\n",
       "      <td>Joanna</td>\n",
       "    </tr>\n",
       "    <tr>\n",
       "      <th>4</th>\n",
       "      <td>4</td>\n",
       "      <td>R_e8c87c751d464567b2fe55a5d7924c88</td>\n",
       "      <td>Mike</td>\n",
       "    </tr>\n",
       "  </tbody>\n",
       "</table>\n",
       "</div>"
      ],
      "text/plain": [
       "  contributors__index_                  contributors__rid_ contributors__val_\n",
       "0                    0  R_e8c87c751d464567b2fe55a5d7924c88             Aldren\n",
       "1                    1  R_e8c87c751d464567b2fe55a5d7924c88          Geir Arne\n",
       "2                    2  R_e8c87c751d464567b2fe55a5d7924c88               Jaya\n",
       "3                    3  R_e8c87c751d464567b2fe55a5d7924c88             Joanna\n",
       "4                    4  R_e8c87c751d464567b2fe55a5d7924c88               Mike"
      ]
     },
     "execution_count": 23,
     "metadata": {},
     "output_type": "execute_result"
    }
   ],
   "source": [
    "query3 = \"\"\"SELECT *\n",
    "            FROM employee_contributors\"\"\"\n",
    "cursor.execute(query3)\n",
    "value1 = cursor.fetchall()\n",
    "\n",
    "column1 = [column[0] for column in cursor.description]\n",
    "print(f'The columns present are:{column1}')\n",
    "data1 = pd.DataFrame(value1, columns = column1)\n",
    "data1.head()"
   ]
  },
  {
   "cell_type": "markdown",
   "id": "4236b7fd-35b5-45bf-b7b5-808544ac2695",
   "metadata": {},
   "source": [
    "It's standard practise to close the files as well as the database when you are done working."
   ]
  },
  {
   "cell_type": "code",
   "execution_count": 24,
   "id": "dc88d32e-b727-4b6f-9098-21860b5ae86d",
   "metadata": {},
   "outputs": [],
   "source": [
    "client.close()\n",
    "connection.close()"
   ]
  },
  {
   "cell_type": "code",
   "execution_count": null,
   "id": "ee5677fc-e443-4976-a5cf-7566b4b8ef5a",
   "metadata": {},
   "outputs": [],
   "source": []
  }
 ],
 "metadata": {
  "kernelspec": {
   "display_name": "Python 3 (ipykernel)",
   "language": "python",
   "name": "python3"
  },
  "language_info": {
   "codemirror_mode": {
    "name": "ipython",
    "version": 3
   },
   "file_extension": ".py",
   "mimetype": "text/x-python",
   "name": "python",
   "nbconvert_exporter": "python",
   "pygments_lexer": "ipython3",
   "version": "3.9.12"
  }
 },
 "nbformat": 4,
 "nbformat_minor": 5
}
